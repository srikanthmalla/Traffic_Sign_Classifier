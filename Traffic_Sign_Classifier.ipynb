{
 "cells": [
  {
   "cell_type": "markdown",
   "metadata": {},
   "source": [
    "# Self-Driving Car Engineer Nanodegree\n",
    "\n",
    "## Deep Learning\n",
    "\n",
    "## Project: Build a Traffic Sign Recognition Classifier\n",
    "\n",
    "In this notebook, a template is provided for you to implement your functionality in stages, which is required to successfully complete this project. If additional code is required that cannot be included in the notebook, be sure that the Python code is successfully imported and included in your submission if necessary. \n",
    "\n",
    "> **Note**: Once you have completed all of the code implementations, you need to finalize your work by exporting the iPython Notebook as an HTML document. Before exporting the notebook to html, all of the code cells need to have been run so that reviewers can see the final implementation and output. You can then export the notebook by using the menu above and navigating to  \\n\",\n",
    "    \"**File -> Download as -> HTML (.html)**. Include the finished document along with this notebook as your submission. \n",
    "\n",
    "In addition to implementing code, there is a writeup to complete. The writeup should be completed in a separate file, which can be either a markdown file or a pdf document. There is a [write up template](https://github.com/udacity/CarND-Traffic-Sign-Classifier-Project/blob/master/writeup_template.md) that can be used to guide the writing process. Completing the code template and writeup template will cover all of the [rubric points](https://review.udacity.com/#!/rubrics/481/view) for this project.\n",
    "\n",
    "The [rubric](https://review.udacity.com/#!/rubrics/481/view) contains \"Stand Out Suggestions\" for enhancing the project beyond the minimum requirements. The stand out suggestions are optional. If you decide to pursue the \"stand out suggestions\", you can include the code in this Ipython notebook and also discuss the results in the writeup file.\n",
    "\n",
    "\n",
    ">**Note:** Code and Markdown cells can be executed using the **Shift + Enter** keyboard shortcut. In addition, Markdown cells can be edited by typically double-clicking the cell to enter edit mode."
   ]
  },
  {
   "cell_type": "markdown",
   "metadata": {},
   "source": [
    "---\n",
    "## Step 0: Load The Data"
   ]
  },
  {
   "cell_type": "code",
   "execution_count": 5,
   "metadata": {},
   "outputs": [
    {
     "name": "stdout",
     "output_type": "stream",
     "text": [
      "train shape: (34799, 32, 32, 3) (34799,)\n",
      "valid shape: (4410, 32, 32, 3) (4410,)\n",
      "test shape: (12630, 32, 32, 3) (12630,)\n"
     ]
    }
   ],
   "source": [
    "# Load pickled data\n",
    "import pickle\n",
    "\n",
    "# TODO: Fill this in based on where you saved the training and testing data\n",
    "\n",
    "training_file = \"./dataset/train.p\"\n",
    "validation_file=\"./dataset/valid.p\"\n",
    "testing_file = \"./dataset/test.p\"\n",
    "\n",
    "with open(training_file, mode='rb') as f:\n",
    "    train = pickle.load(f)\n",
    "with open(validation_file, mode='rb') as f:\n",
    "    valid = pickle.load(f)\n",
    "with open(testing_file, mode='rb') as f:\n",
    "    test = pickle.load(f)\n",
    "    \n",
    "X_train, y_train = train['features'], train['labels']\n",
    "X_valid, y_valid = valid['features'], valid['labels']\n",
    "X_test, y_test = test['features'], test['labels']\n",
    "\n",
    "print ('train shape:',X_train.shape,y_train.shape)\n",
    "print ('valid shape:',X_valid.shape,y_valid.shape)\n",
    "print ('test shape:',X_test.shape,y_test.shape)"
   ]
  },
  {
   "cell_type": "markdown",
   "metadata": {},
   "source": [
    "---\n",
    "\n",
    "## Step 1: Dataset Summary & Exploration\n",
    "\n",
    "The pickled data is a dictionary with 4 key/value pairs:\n",
    "\n",
    "- `'features'` is a 4D array containing raw pixel data of the traffic sign images, (num examples, width, height, channels).\n",
    "- `'labels'` is a 1D array containing the label/class id of the traffic sign. The file `signnames.csv` contains id -> name mappings for each id.\n",
    "- `'sizes'` is a list containing tuples, (width, height) representing the original width and height the image.\n",
    "- `'coords'` is a list containing tuples, (x1, y1, x2, y2) representing coordinates of a bounding box around the sign in the image. **THESE COORDINATES ASSUME THE ORIGINAL IMAGE. THE PICKLED DATA CONTAINS RESIZED VERSIONS (32 by 32) OF THESE IMAGES**\n",
    "\n",
    "Complete the basic data summary below. Use python, numpy and/or pandas methods to calculate the data summary rather than hard coding the results. For example, the [pandas shape method](http://pandas.pydata.org/pandas-docs/stable/generated/pandas.DataFrame.shape.html) might be useful for calculating some of the summary results. "
   ]
  },
  {
   "cell_type": "markdown",
   "metadata": {},
   "source": [
    "### Provide a Basic Summary of the Data Set Using Python, Numpy and/or Pandas"
   ]
  },
  {
   "cell_type": "code",
   "execution_count": 6,
   "metadata": {},
   "outputs": [
    {
     "name": "stdout",
     "output_type": "stream",
     "text": [
      "Number of training examples = 34799\n",
      "Number of testing examples = 12630\n",
      "Image data shape = (32, 32, 3)\n",
      "Number of classes = 43\n"
     ]
    }
   ],
   "source": [
    "### Replace each question mark with the appropriate value. \n",
    "### Use python, pandas or numpy methods rather than hard coding the results\n",
    "import numpy as np\n",
    "# TODO: Number of training examples\n",
    "n_train = len(X_train)\n",
    "\n",
    "# TODO: Number of validation examples\n",
    "n_validation = len(X_valid)\n",
    "\n",
    "# TODO: Number of testing examples.\n",
    "n_test = len(X_test)\n",
    "\n",
    "# TODO: What's the shape of an traffic sign image?\n",
    "image_shape = X_train[0].shape\n",
    "\n",
    "# TODO: How many unique classes/labels there are in the dataset.\n",
    "n_classes = len(np.unique(y_train))\n",
    "\n",
    "print(\"Number of training examples =\", n_train)\n",
    "print(\"Number of testing examples =\", n_test)\n",
    "print(\"Image data shape =\", image_shape)\n",
    "print(\"Number of classes =\", n_classes)"
   ]
  },
  {
   "cell_type": "markdown",
   "metadata": {},
   "source": [
    "### Include an exploratory visualization of the dataset"
   ]
  },
  {
   "cell_type": "markdown",
   "metadata": {},
   "source": [
    "Visualize the German Traffic Signs Dataset using the pickled file(s). This is open ended, suggestions include: plotting traffic sign images, plotting the count of each sign, etc. \n",
    "\n",
    "The [Matplotlib](http://matplotlib.org/) [examples](http://matplotlib.org/examples/index.html) and [gallery](http://matplotlib.org/gallery.html) pages are a great resource for doing visualizations in Python.\n",
    "\n",
    "**NOTE:** It's recommended you start with something simple first. If you wish to do more, come back to it after you've completed the rest of the sections. It can be interesting to look at the distribution of classes in the training, validation and test set. Is the distribution the same? Are there more examples of some classes than others?"
   ]
  },
  {
   "cell_type": "code",
   "execution_count": 7,
   "metadata": {},
   "outputs": [
    {
     "data": {
      "image/png": "[encoded data removed]",
      "text/plain": [
       "<matplotlib.figure.Figure at 0x7fa12613e080>"
      ]
     },
     "metadata": {},
     "output_type": "display_data"
    },
    {
     "data": {
      "image/png": "[encoded data removed]",
      "text/plain": [
       "<matplotlib.figure.Figure at 0x7fa12613e2b0>"
      ]
     },
     "metadata": {},
     "output_type": "display_data"
    }
   ],
   "source": [
    "### Data exploration visualization code goes here.\n",
    "### Feel free to use as many code cells as needed.\n",
    "import matplotlib.pyplot as plt\n",
    "import random\n",
    "# Visualizations will be shown in the notebook.\n",
    "%matplotlib inline\n",
    "plt.hist(y_train, bins = n_classes)\n",
    "#show images of 10 random\n",
    "fig, axs = plt.subplots(2,5, figsize=(15, 6))\n",
    "fig.subplots_adjust(hspace = .2, wspace=.001)\n",
    "axs = axs.ravel()\n",
    "for i in range(10):\n",
    "    index = random.randint(0, len(X_train))\n",
    "    image = X_train[index]\n",
    "    axs[i].axis('off')\n",
    "    axs[i].imshow(image)\n",
    "    axs[i].set_title(y_train[index])"
   ]
  },
  {
   "cell_type": "markdown",
   "metadata": {},
   "source": [
    "----\n",
    "\n",
    "## Step 2: Design and Test a Model Architecture\n",
    "\n",
    "Design and implement a deep learning model that learns to recognize traffic signs. Train and test your model on the [German Traffic Sign Dataset](http://benchmark.ini.rub.de/?section=gtsrb&subsection=dataset).\n",
    "\n",
    "The LeNet-5 implementation shown in the [classroom](https://classroom.udacity.com/nanodegrees/nd013/parts/fbf77062-5703-404e-b60c-95b78b2f3f9e/modules/6df7ae49-c61c-4bb2-a23e-6527e69209ec/lessons/601ae704-1035-4287-8b11-e2c2716217ad/concepts/d4aca031-508f-4e0b-b493-e7b706120f81) at the end of the CNN lesson is a solid starting point. You'll have to change the number of classes and possibly the preprocessing, but aside from that it's plug and play! \n",
    "\n",
    "With the LeNet-5 solution from the lecture, you should expect a validation set accuracy of about 0.89. To meet specifications, the validation set accuracy will need to be at least 0.93. It is possible to get an even higher accuracy, but 0.93 is the minimum for a successful project submission. \n",
    "\n",
    "There are various aspects to consider when thinking about this problem:\n",
    "\n",
    "- Neural network architecture (is the network over or underfitting?)\n",
    "- Play around preprocessing techniques (normalization, rgb to grayscale, etc)\n",
    "- Number of examples per label (some have more than others).\n",
    "- Generate fake data.\n",
    "\n",
    "Here is an example of a [published baseline model on this problem](http://yann.lecun.com/exdb/publis/pdf/sermanet-ijcnn-11.pdf). It's not required to be familiar with the approach used in the paper but, it's good practice to try to read papers like these."
   ]
  },
  {
   "cell_type": "markdown",
   "metadata": {},
   "source": [
    "### Pre-process the Data Set (normalization, grayscale, etc.)"
   ]
  },
  {
   "cell_type": "markdown",
   "metadata": {},
   "source": [
    "Minimally, the image data should be normalized so that the data has mean zero and equal variance. For image data, `(pixel - 128)/ 128` is a quick way to approximately normalize the data and can be used in this project. \n",
    "\n",
    "Other pre-processing steps are optional. You can try different techniques to see if it improves performance. \n",
    "\n",
    "Use the code cell (or multiple code cells, if necessary) to implement the first step of your project."
   ]
  },
  {
   "cell_type": "code",
   "execution_count": 8,
   "metadata": {
    "collapsed": true
   },
   "outputs": [],
   "source": [
    "### Preprocess the data here. It is required to normalize the data. Other preprocessing steps could include \n",
    "import cv2\n",
    "# Grayscales an image\n",
    "def grayscale(img):\n",
    "    img = cv2.cvtColor(img, cv2.COLOR_BGR2GRAY)\n",
    "    return img\n",
    "# Normalizes the data between 0.1 and 0.9 instead of 0 to 255    \n",
    "def normalize(data):\n",
    "    return data / 255 * 0.8 + 0.1\n",
    "# Iterates through grayscale for each image in the data\n",
    "def preprocess(data):\n",
    "    gray_images = []\n",
    "    for image in data:\n",
    "        gray = grayscale(image)\n",
    "        gray_images.append(gray)\n",
    "    return np.array(gray_images)"
   ]
  },
  {
   "cell_type": "code",
   "execution_count": 9,
   "metadata": {},
   "outputs": [
    {
     "name": "stdout",
     "output_type": "stream",
     "text": [
      "Preprocessing training data...\n",
      "Finished preprocessing training data.\n",
      "Processed training data shape = (34799, 32, 32, 1)\n",
      "Preprocessing testing data...\n",
      "Finished preprocessing testing data.\n",
      "Processed validation data shape = (12630, 32, 32, 1)\n",
      "Preprocessing Validation data...\n",
      "Finished preprocessing testing data.\n",
      "Processed validation data shape = (4410, 32, 32, 1)\n",
      "All data preprocessing complete.\n"
     ]
    }
   ],
   "source": [
    "from numpy import newaxis\n",
    "\n",
    "print('Preprocessing training data...')\n",
    "\n",
    "# Iterate through grayscale\n",
    "X_train = preprocess(X_train)\n",
    "X_train = X_train[..., newaxis]\n",
    "\n",
    "# Normalize\n",
    "X_train = normalize(X_train) \n",
    "\n",
    "print('Finished preprocessing training data.')\n",
    "\n",
    "# Double-check that the image is changed to depth of 1\n",
    "image_shape2 = X_train.shape\n",
    "print(\"Processed training data shape =\", image_shape2)\n",
    "\n",
    "print('Preprocessing testing data...')\n",
    "\n",
    "# Iterate through grayscale\n",
    "X_test = preprocess(X_test)\n",
    "X_test = X_test[..., newaxis]\n",
    "\n",
    "# Normalize\n",
    "X_test = normalize(X_test) \n",
    "print('Finished preprocessing testing data.')\n",
    "# Double-check that the image is changed to depth of 1\n",
    "image_shape3 = X_test.shape\n",
    "print(\"Processed validation data shape =\", image_shape3)\n",
    "# Double-check that the image is changed to depth of 1\n",
    "print('Preprocessing Validation data...')\n",
    "\n",
    "# Iterate through grayscale\n",
    "X_valid = preprocess(X_valid)\n",
    "X_valid = X_valid[..., newaxis]\n",
    "\n",
    "# Normalize\n",
    "X_valid = normalize(X_valid) \n",
    "\n",
    "print('Finished preprocessing testing data.')\n",
    "\n",
    "# Double-check that the image is changed to depth of 1\n",
    "image_shape4 = X_valid.shape\n",
    "print(\"Processed validation data shape =\", image_shape4)\n",
    "\n",
    "print('All data preprocessing complete.')\n"
   ]
  },
  {
   "cell_type": "code",
   "execution_count": 10,
   "metadata": {},
   "outputs": [
    {
     "name": "stdout",
     "output_type": "stream",
     "text": [
      "Generating new data.\n",
      "Additional data generated. Any classes lacking data now have 809 pictures.\n"
     ]
    }
   ],
   "source": [
    "# I will generate some additional data, then split the data in a later cell.\n",
    "# This is to help with the issue identified in the original histogram\n",
    "from scipy import ndimage\n",
    "import random\n",
    "\n",
    "# min_desired below is just mean_pics but wanted to make the code below easier to distinguish\n",
    "pics_in_class = np.bincount(y_train)\n",
    "mean_pics = int(np.mean(pics_in_class))\n",
    "min_desired = int(mean_pics)\n",
    "\n",
    "print('Generating new data.')\n",
    "\n",
    "# Angles to be used to rotate images in additional data made\n",
    "angles = [-10, 10, -15, 15, -20, 20]\n",
    "\n",
    "# Iterate through each class\n",
    "for i in range(len(pics_in_class)):\n",
    "    \n",
    "    # Check if less data than the mean\n",
    "    if pics_in_class[i] < min_desired:\n",
    "        \n",
    "        # Count how many additional pictures we want\n",
    "        new_wanted = min_desired - pics_in_class[i]\n",
    "        picture = np.where(y_train == i)\n",
    "        more_X = []\n",
    "        more_y = []\n",
    "        \n",
    "        # Make the number of additional pictures needed to arrive at the mean\n",
    "        for num in range(new_wanted):\n",
    "            \n",
    "            # Rotate images and append new ones to more_X, append the class to more_y\n",
    "            more_X.append(ndimage.rotate(X_train[picture][random.randint(0,pics_in_class[i] - 1)], random.choice(angles), reshape=False))\n",
    "            more_y.append(i)\n",
    "        \n",
    "        # Append the pictures generated for each class back to the original data\n",
    "        X_train = np.append(X_train, np.array(more_X), axis=0)\n",
    "        y_train = np.append(y_train, np.array(more_y), axis=0)\n",
    "        \n",
    "print('Additional data generated. Any classes lacking data now have', min_desired, 'pictures.')\n"
   ]
  },
  {
   "cell_type": "code",
   "execution_count": 11,
   "metadata": {},
   "outputs": [
    {
     "name": "stdout",
     "output_type": "stream",
     "text": [
      "The updated number of training examples = 46714\n"
     ]
    },
    {
     "data": {
      "image/png": "[encoded data removed]",
      "text/plain": [
       "<matplotlib.figure.Figure at 0x7fa1261ddfd0>"
      ]
     },
     "metadata": {},
     "output_type": "display_data"
    }
   ],
   "source": [
    "plt.hist(y_train, bins = n_classes)\n",
    "\n",
    "updated_n_train = len(X_train)\n",
    "print(\"The updated number of training examples =\", updated_n_train)"
   ]
  },
  {
   "cell_type": "markdown",
   "metadata": {},
   "source": [
    "### Model Architecture"
   ]
  },
  {
   "cell_type": "code",
   "execution_count": 12,
   "metadata": {
    "collapsed": true
   },
   "outputs": [],
   "source": [
    "### Define your architecture here.\n",
    "### Feel free to use as many code cells as needed\n",
    "import tensorflow as tf\n",
    "tf.reset_default_graph()\n",
    "\n",
    "EPOCHS = 100\n",
    "BATCH_SIZE = 150\n",
    "\n",
    "from tensorflow.contrib.layers import flatten\n",
    "\n",
    "def neural_network(x):    \n",
    "    # Hyperparameters\n",
    "    mu = 0\n",
    "    sigma = 0.1\n",
    "    \n",
    "    # Layer 1: Convolutional. Input = 32x32x1. Output = 28x28x6.\n",
    "    # Weight and bias\n",
    "    # If not using grayscale, the third number in shape would be 3\n",
    "    c1_weight = tf.Variable(tf.truncated_normal(shape = (5, 5, 1, 6), mean = mu, stddev = sigma))\n",
    "    c1_bias = tf.Variable(tf.zeros(6))\n",
    "    # Apply convolution\n",
    "    conv_layer1 = tf.nn.conv2d(x, c1_weight, strides=[1, 1, 1, 1], padding='VALID') + c1_bias\n",
    "    \n",
    "    # Activation for layer 1\n",
    "    conv_layer1 = tf.nn.relu(conv_layer1)\n",
    "    \n",
    "    # Pooling. Input = 28x28x6. Output = 14x14x6.\n",
    "    conv_layer1 = tf.nn.avg_pool(conv_layer1, ksize=[1, 2, 2, 1], strides=[1, 2, 2, 1], padding='VALID')\n",
    "    \n",
    "    # Layer 2: Convolutional. Output = 10x10x16.\n",
    "    # Note: The second layer is implemented the exact same as layer one, with layer 1 as input instead of x\n",
    "    # And then of course changing the numbers to fit the desired ouput of 10x10x16\n",
    "    # Weight and bias\n",
    "    c2_weight = tf.Variable(tf.truncated_normal(shape = (5, 5, 6, 16), mean = mu, stddev = sigma))\n",
    "    c2_bias = tf.Variable(tf.zeros(16))\n",
    "    # Apply convolution for layer 2\n",
    "    conv_layer2 = tf.nn.conv2d(conv_layer1, c2_weight, strides=[1, 1, 1, 1], padding='VALID') + c2_bias\n",
    "    \n",
    "    # Activation for layer 2\n",
    "    conv_layer2 = tf.nn.relu(conv_layer2)\n",
    "    \n",
    "    # Pooling. Input = 10x10x16. Output = 5x5x16.\n",
    "    conv_layer2 = tf.nn.avg_pool(conv_layer2, ksize=[1, 2, 2, 1], strides=[1, 2, 2, 1], padding='VALID')\n",
    "\n",
    "    # Flatten to get to fully connected layers. Input = 5x5x16. Output = 400.\n",
    "    flat = tf.contrib.layers.flatten(conv_layer2)\n",
    "    \n",
    "    # Layer 3: Fully Connected. Input = 400. Output = 120.\n",
    "    # Although this is fully connected, the weights and biases still are implemented similarly\n",
    "    # There is no filter this time, so shape only takes input and output\n",
    "    # Weight and bias\n",
    "    fc1_weight = tf.Variable(tf.truncated_normal(shape = (400, 200), mean = mu, stddev = sigma))\n",
    "    fc1_bias = tf.Variable(tf.zeros(200))\n",
    "    # Here is the main change versus a convolutional layer - matrix multiplication instead of 2D convolution\n",
    "    fc1 = tf.matmul(flat, fc1_weight) + fc1_bias\n",
    "    \n",
    "    # Activation for the first fully connected layer.\n",
    "    # Same thing as before\n",
    "    fc1 = tf.nn.relu(fc1)\n",
    "    \n",
    "    # Dropout, to prevent overfitting\n",
    "    fc1 = tf.nn.dropout(fc1, keep_prob)\n",
    "\n",
    "    # Layer 4: Fully Connected. Input = 120. Output = 84.\n",
    "    # Same as the fc1 layer, just with updated output numbers\n",
    "    fc2_weight = tf.Variable(tf.truncated_normal(shape = (200, 100), mean = mu, stddev = sigma))\n",
    "    fc2_bias = tf.Variable(tf.zeros(100))\n",
    "    # Again, matrix multiplication\n",
    "    fc2 = tf.matmul(fc1, fc2_weight) + fc2_bias\n",
    "    \n",
    "    # Activation.\n",
    "    fc2 = tf.nn.relu(fc2)\n",
    "    \n",
    "    # Dropout\n",
    "    fc2 = tf.nn.dropout(fc2, keep_prob)\n",
    "    \n",
    "    # Layer 5 Fully Connected. Input = 84. Output = 43.\n",
    "    # Since this is the final layer, output needs to match up with the number of classes\n",
    "    fc3_weight = tf.Variable(tf.truncated_normal(shape = (100, 43), mean = mu, stddev = sigma))\n",
    "    fc3_bias = tf.Variable(tf.zeros(43))\n",
    "    # Again, matrix multiplication\n",
    "    logits = tf.matmul(fc2, fc3_weight) + fc3_bias\n",
    "    \n",
    "    return logits"
   ]
  },
  {
   "cell_type": "code",
   "execution_count": 13,
   "metadata": {
    "collapsed": true
   },
   "outputs": [],
   "source": [
    "# Set placeholder variables for x, y, and the keep_prob for dropout\n",
    "# Also, one-hot encode y\n",
    "x = tf.placeholder(tf.float32, (None, 32, 32, 1))\n",
    "y = tf.placeholder(tf.int32, (None))\n",
    "keep_prob = tf.placeholder(tf.float32)\n",
    "one_hot_y = tf.one_hot(y, 43)"
   ]
  },
  {
   "cell_type": "code",
   "execution_count": 14,
   "metadata": {
    "collapsed": true
   },
   "outputs": [],
   "source": [
    "# Setting learning rate, loss functions, and optimizer\n",
    "rate = 0.005\n",
    "logits = neural_network(x)\n",
    "cross_entropy = tf.nn.softmax_cross_entropy_with_logits(logits=logits, labels=one_hot_y)\n",
    "loss_operation = tf.reduce_mean(cross_entropy)\n",
    "optimizer = tf.train.AdamOptimizer(learning_rate = rate)\n",
    "training_operation = optimizer.minimize(loss_operation)"
   ]
  },
  {
   "cell_type": "code",
   "execution_count": 15,
   "metadata": {
    "collapsed": true
   },
   "outputs": [],
   "source": [
    "# The below is used in the validation part of the neural network\n",
    "correct_prediction = tf.equal(tf.argmax(logits, 1), tf.argmax(one_hot_y, 1))\n",
    "accuracy_operation = tf.reduce_mean(tf.cast(correct_prediction, tf.float32))\n",
    "\n",
    "def evaluate(X_data, y_data):\n",
    "    num_examples = len(X_data)\n",
    "    total_accuracy = 0\n",
    "    sess = tf.get_default_session()\n",
    "    for offset in range(0, num_examples, BATCH_SIZE):\n",
    "        batch_x, batch_y = X_data[offset:offset+BATCH_SIZE], y_data[offset:offset+BATCH_SIZE]\n",
    "        accuracy =  sess.run(accuracy_operation, feed_dict={x: batch_x, y: batch_y, keep_prob : 1.0})\n",
    "        total_accuracy += (accuracy * len(batch_x))\n",
    "    return total_accuracy / num_examples"
   ]
  },
  {
   "cell_type": "markdown",
   "metadata": {},
   "source": [
    "### Train, Validate and Test the Model"
   ]
  },
  {
   "cell_type": "markdown",
   "metadata": {},
   "source": [
    "A validation set can be used to assess how well the model is performing. A low accuracy on the training and validation\n",
    "sets imply underfitting. A high accuracy on the training set but low accuracy on the validation set implies overfitting."
   ]
  },
  {
   "cell_type": "code",
   "execution_count": 16,
   "metadata": {},
   "outputs": [
    {
     "name": "stdout",
     "output_type": "stream",
     "text": [
      "WARNING:tensorflow:From <ipython-input-16-ca006061fcc1>:8: initialize_all_variables (from tensorflow.python.ops.variables) is deprecated and will be removed after 2017-03-02.\n",
      "Instructions for updating:\n",
      "Use `tf.global_variables_initializer` instead.\n",
      "Training...\n",
      "\n",
      "EPOCH 1 ...\n",
      "Validation Accuracy = 0.829\n",
      "\n",
      "EPOCH 2 ...\n",
      "Validation Accuracy = 0.893\n",
      "\n",
      "EPOCH 3 ...\n",
      "Validation Accuracy = 0.896\n",
      "\n",
      "EPOCH 4 ...\n",
      "Validation Accuracy = 0.928\n",
      "\n",
      "EPOCH 5 ...\n",
      "Validation Accuracy = 0.928\n",
      "\n",
      "EPOCH 6 ...\n",
      "Validation Accuracy = 0.931\n",
      "\n",
      "EPOCH 7 ...\n",
      "Validation Accuracy = 0.930\n",
      "\n",
      "EPOCH 8 ...\n",
      "Validation Accuracy = 0.940\n",
      "\n",
      "EPOCH 9 ...\n",
      "Validation Accuracy = 0.941\n",
      "\n",
      "EPOCH 10 ...\n",
      "Validation Accuracy = 0.934\n",
      "\n",
      "EPOCH 11 ...\n",
      "Validation Accuracy = 0.941\n",
      "\n",
      "EPOCH 12 ...\n",
      "Validation Accuracy = 0.941\n",
      "\n",
      "EPOCH 13 ...\n",
      "Validation Accuracy = 0.949\n",
      "\n",
      "EPOCH 14 ...\n",
      "Validation Accuracy = 0.936\n",
      "\n",
      "EPOCH 15 ...\n",
      "Validation Accuracy = 0.944\n",
      "\n",
      "EPOCH 16 ...\n",
      "Validation Accuracy = 0.950\n",
      "\n",
      "EPOCH 17 ...\n",
      "Validation Accuracy = 0.958\n",
      "\n",
      "EPOCH 18 ...\n",
      "Validation Accuracy = 0.940\n",
      "\n",
      "EPOCH 19 ...\n",
      "Validation Accuracy = 0.946\n",
      "\n",
      "EPOCH 20 ...\n",
      "Validation Accuracy = 0.954\n",
      "\n",
      "EPOCH 21 ...\n",
      "Validation Accuracy = 0.955\n",
      "\n",
      "EPOCH 22 ...\n",
      "Validation Accuracy = 0.946\n",
      "\n",
      "EPOCH 23 ...\n",
      "Validation Accuracy = 0.959\n",
      "\n",
      "EPOCH 24 ...\n",
      "Validation Accuracy = 0.951\n",
      "\n",
      "EPOCH 25 ...\n",
      "Validation Accuracy = 0.953\n",
      "\n",
      "EPOCH 26 ...\n",
      "Validation Accuracy = 0.956\n",
      "\n",
      "EPOCH 27 ...\n",
      "Validation Accuracy = 0.945\n",
      "\n",
      "EPOCH 28 ...\n",
      "Validation Accuracy = 0.951\n",
      "\n",
      "EPOCH 29 ...\n",
      "Validation Accuracy = 0.948\n",
      "\n",
      "EPOCH 30 ...\n",
      "Validation Accuracy = 0.954\n",
      "\n",
      "EPOCH 31 ...\n",
      "Validation Accuracy = 0.951\n",
      "\n",
      "EPOCH 32 ...\n",
      "Validation Accuracy = 0.945\n",
      "\n",
      "EPOCH 33 ...\n",
      "Validation Accuracy = 0.949\n",
      "\n",
      "EPOCH 34 ...\n",
      "Validation Accuracy = 0.943\n",
      "\n",
      "EPOCH 35 ...\n",
      "Validation Accuracy = 0.958\n",
      "\n",
      "EPOCH 36 ...\n",
      "Validation Accuracy = 0.948\n",
      "\n",
      "EPOCH 37 ...\n",
      "Validation Accuracy = 0.947\n",
      "\n",
      "EPOCH 38 ...\n",
      "Validation Accuracy = 0.946\n",
      "\n",
      "EPOCH 39 ...\n",
      "Validation Accuracy = 0.955\n",
      "\n",
      "EPOCH 40 ...\n",
      "Validation Accuracy = 0.941\n",
      "\n",
      "EPOCH 41 ...\n",
      "Validation Accuracy = 0.948\n",
      "\n",
      "EPOCH 42 ...\n",
      "Validation Accuracy = 0.948\n",
      "\n",
      "EPOCH 43 ...\n",
      "Validation Accuracy = 0.954\n",
      "\n",
      "EPOCH 44 ...\n",
      "Validation Accuracy = 0.936\n",
      "\n",
      "EPOCH 45 ...\n",
      "Validation Accuracy = 0.960\n",
      "\n",
      "EPOCH 46 ...\n",
      "Validation Accuracy = 0.952\n",
      "\n",
      "EPOCH 47 ...\n",
      "Validation Accuracy = 0.953\n",
      "\n",
      "EPOCH 48 ...\n",
      "Validation Accuracy = 0.954\n",
      "\n",
      "EPOCH 49 ...\n",
      "Validation Accuracy = 0.950\n",
      "\n",
      "EPOCH 50 ...\n",
      "Validation Accuracy = 0.952\n",
      "\n",
      "EPOCH 51 ...\n",
      "Validation Accuracy = 0.941\n",
      "\n",
      "EPOCH 52 ...\n",
      "Validation Accuracy = 0.950\n",
      "\n",
      "EPOCH 53 ...\n",
      "Validation Accuracy = 0.964\n",
      "\n",
      "EPOCH 54 ...\n",
      "Validation Accuracy = 0.953\n",
      "\n",
      "EPOCH 55 ...\n",
      "Validation Accuracy = 0.956\n",
      "\n",
      "EPOCH 56 ...\n",
      "Validation Accuracy = 0.949\n",
      "\n",
      "EPOCH 57 ...\n",
      "Validation Accuracy = 0.934\n",
      "\n",
      "EPOCH 58 ...\n",
      "Validation Accuracy = 0.948\n",
      "\n",
      "EPOCH 59 ...\n",
      "Validation Accuracy = 0.959\n",
      "\n",
      "EPOCH 60 ...\n",
      "Validation Accuracy = 0.952\n",
      "\n",
      "EPOCH 61 ...\n",
      "Validation Accuracy = 0.965\n",
      "\n",
      "EPOCH 62 ...\n",
      "Validation Accuracy = 0.956\n",
      "\n",
      "EPOCH 63 ...\n",
      "Validation Accuracy = 0.956\n",
      "\n",
      "EPOCH 64 ...\n",
      "Validation Accuracy = 0.959\n",
      "\n",
      "EPOCH 65 ...\n",
      "Validation Accuracy = 0.966\n",
      "\n",
      "EPOCH 66 ...\n",
      "Validation Accuracy = 0.956\n",
      "\n",
      "EPOCH 67 ...\n",
      "Validation Accuracy = 0.953\n",
      "\n",
      "EPOCH 68 ...\n",
      "Validation Accuracy = 0.955\n",
      "\n",
      "EPOCH 69 ...\n",
      "Validation Accuracy = 0.917\n",
      "\n",
      "EPOCH 70 ...\n",
      "Validation Accuracy = 0.951\n",
      "\n",
      "EPOCH 71 ...\n",
      "Validation Accuracy = 0.958\n",
      "\n",
      "EPOCH 72 ...\n",
      "Validation Accuracy = 0.944\n",
      "\n",
      "EPOCH 73 ...\n",
      "Validation Accuracy = 0.951\n",
      "\n",
      "EPOCH 74 ...\n",
      "Validation Accuracy = 0.962\n",
      "\n",
      "EPOCH 75 ...\n",
      "Validation Accuracy = 0.954\n",
      "\n",
      "EPOCH 76 ...\n",
      "Validation Accuracy = 0.953\n",
      "\n",
      "EPOCH 77 ...\n",
      "Validation Accuracy = 0.958\n",
      "\n",
      "EPOCH 78 ...\n",
      "Validation Accuracy = 0.961\n",
      "\n",
      "EPOCH 79 ...\n",
      "Validation Accuracy = 0.965\n",
      "\n",
      "EPOCH 80 ...\n",
      "Validation Accuracy = 0.955\n",
      "\n",
      "EPOCH 81 ...\n",
      "Validation Accuracy = 0.952\n",
      "\n",
      "EPOCH 82 ...\n",
      "Validation Accuracy = 0.963\n",
      "\n",
      "EPOCH 83 ...\n",
      "Validation Accuracy = 0.959\n",
      "\n",
      "EPOCH 84 ...\n",
      "Validation Accuracy = 0.956\n",
      "\n",
      "EPOCH 85 ...\n",
      "Validation Accuracy = 0.960\n",
      "\n",
      "EPOCH 86 ...\n",
      "Validation Accuracy = 0.960\n",
      "\n",
      "EPOCH 87 ...\n",
      "Validation Accuracy = 0.959\n",
      "\n",
      "EPOCH 88 ...\n",
      "Validation Accuracy = 0.965\n",
      "\n",
      "EPOCH 89 ...\n",
      "Validation Accuracy = 0.960\n",
      "\n",
      "EPOCH 90 ...\n",
      "Validation Accuracy = 0.917\n",
      "\n",
      "EPOCH 91 ...\n",
      "Validation Accuracy = 0.965\n",
      "\n",
      "EPOCH 92 ...\n",
      "Validation Accuracy = 0.960\n",
      "\n",
      "EPOCH 93 ...\n",
      "Validation Accuracy = 0.951\n",
      "\n",
      "EPOCH 94 ...\n",
      "Validation Accuracy = 0.959\n",
      "\n",
      "EPOCH 95 ...\n",
      "Validation Accuracy = 0.951\n",
      "\n",
      "EPOCH 96 ...\n",
      "Validation Accuracy = 0.950\n",
      "\n",
      "EPOCH 97 ...\n",
      "Validation Accuracy = 0.957\n",
      "\n",
      "EPOCH 98 ...\n",
      "Validation Accuracy = 0.958\n",
      "\n",
      "EPOCH 99 ...\n",
      "Validation Accuracy = 0.959\n",
      "\n",
      "EPOCH 100 ...\n",
      "Validation Accuracy = 0.966\n",
      "\n",
      "Trained Model Saved.\n"
     ]
    }
   ],
   "source": [
    "### Train your model here.\n",
    "### Feel free to use as many code cells as needed.\n",
    "save_file = 'train_model.ckpt'\n",
    "saver = tf.train.Saver()\n",
    "from sklearn.utils import shuffle\n",
    "\n",
    "with tf.Session() as sess:\n",
    "    sess.run(tf.initialize_all_variables())\n",
    "    num_examples = len(X_train)\n",
    "    \n",
    "    print(\"Training...\")\n",
    "    print()\n",
    "    for i in range(EPOCHS):\n",
    "        X_train, y_train = shuffle(X_train, y_train)\n",
    "        for offset in range(0, num_examples, BATCH_SIZE):\n",
    "            end = offset + BATCH_SIZE\n",
    "            batch_x, batch_y = X_train[offset:end], y_train[offset:end]\n",
    "            loss = sess.run(training_operation, feed_dict={x: batch_x, y: batch_y, keep_prob : 0.7})\n",
    "            \n",
    "        validation_accuracy = evaluate(X_valid, y_valid)\n",
    "        print(\"EPOCH {} ...\".format(i+1))\n",
    "        print(\"Validation Accuracy = {:.3f}\".format(validation_accuracy))\n",
    "        print()\n",
    "        \n",
    "    # Save the model\n",
    "    saver.save(sess, save_file)\n",
    "    print('Trained Model Saved.')"
   ]
  },
  {
   "cell_type": "code",
   "execution_count": 17,
   "metadata": {},
   "outputs": [
    {
     "name": "stdout",
     "output_type": "stream",
     "text": [
      "INFO:tensorflow:Restoring parameters from train_model.ckpt\n",
      "Test Accuracy: 0.933492124080658\n"
     ]
    }
   ],
   "source": [
    "# Launch the model on the test data\n",
    "with tf.Session() as sess:\n",
    "    saver.restore(sess, save_file)\n",
    "\n",
    "    test_accuracy = sess.run(accuracy_operation, feed_dict={x: X_test, y: y_test, keep_prob : 1.0})\n",
    "\n",
    "print('Test Accuracy: {}'.format(test_accuracy))"
   ]
  },
  {
   "cell_type": "markdown",
   "metadata": {},
   "source": [
    "---\n",
    "\n",
    "## Step 3: Test a Model on New Images\n",
    "\n",
    "To give yourself more insight into how your model is working, download at least five pictures of German traffic signs from the web and use your model to predict the traffic sign type.\n",
    "\n",
    "You may find `signnames.csv` useful as it contains mappings from the class id (integer) to the actual sign name."
   ]
  },
  {
   "cell_type": "markdown",
   "metadata": {},
   "source": [
    "### Load and Output the Images"
   ]
  },
  {
   "cell_type": "code",
   "execution_count": 32,
   "metadata": {},
   "outputs": [
    {
     "data": {
      "image/png": "[encoded data removed]",
      "text/plain": [
       "<matplotlib.figure.Figure at 0x7fa0d163d8d0>"
      ]
     },
     "metadata": {},
     "output_type": "display_data"
    },
    {
     "data": {
      "image/png": "[encoded data removed]",
      "text/plain": [
       "<matplotlib.figure.Figure at 0x7fa0d155d630>"
      ]
     },
     "metadata": {},
     "output_type": "display_data"
    },
    {
     "data": {
      "image/png": "[encoded data removed]",
      "text/plain": [
       "<matplotlib.figure.Figure at 0x7fa0d12cca58>"
      ]
     },
     "metadata": {},
     "output_type": "display_data"
    },
    {
     "data": {
      "image/png": "[encoded data removed]",
      "text/plain": [
       "<matplotlib.figure.Figure at 0x7fa0d14907f0>"
      ]
     },
     "metadata": {},
     "output_type": "display_data"
    },
    {
     "data": {
      "image/png": "[encoded data removed]",
      "text/plain": [
       "<matplotlib.figure.Figure at 0x7fa0d131f7b8>"
      ]
     },
     "metadata": {},
     "output_type": "display_data"
    }
   ],
   "source": [
    "### Load the images and plot them here.\n",
    "### Feel free to use as many code cells as needed.\n",
    "import os\n",
    "import matplotlib.image as mpimg\n",
    "import matplotlib.pyplot as plt\n",
    "add_pics = os.listdir(\"add_pics/\")\n",
    "# Drop the mac's created '.DS_Store' file\n",
    "add_pics = add_pics[1:6]\n",
    "\n",
    "# Show the images, add to a list to process for classifying\n",
    "add_pics_data = []\n",
    "for i in add_pics:\n",
    "    i = 'add_pics/' + i\n",
    "    image = mpimg.imread(i)\n",
    "    add_pics_data.append(image)\n",
    "    plt.imshow(image)\n",
    "    plt.show()"
   ]
  },
  {
   "cell_type": "code",
   "execution_count": 33,
   "metadata": {},
   "outputs": [
    {
     "name": "stdout",
     "output_type": "stream",
     "text": [
      "(5, 32, 32, 3)\n"
     ]
    }
   ],
   "source": [
    "# Make into numpy array for processing\n",
    "add_pics_data = np.array(add_pics_data)\n",
    "\n",
    "# First, double-check the image shape to make sure it matches the original data's 32x32x3 size\n",
    "print(add_pics_data.shape)"
   ]
  },
  {
   "cell_type": "code",
   "execution_count": 34,
   "metadata": {},
   "outputs": [
    {
     "name": "stdout",
     "output_type": "stream",
     "text": [
      "Preprocessing additional pictures...\n",
      "Finished preprocessing additional pictures.\n",
      "Processed additional pictures shape = (5, 32, 32, 1)\n"
     ]
    }
   ],
   "source": [
    "print('Preprocessing additional pictures...')\n",
    "\n",
    "# Iterate through grayscale\n",
    "add_pics_data = preprocess(add_pics_data)\n",
    "add_pics_data = add_pics_data[..., newaxis]\n",
    "\n",
    "# Normalize\n",
    "add_pics_data = normalize(add_pics_data) \n",
    "\n",
    "print('Finished preprocessing additional pictures.')\n",
    "\n",
    "# Double-check that the image is changed to depth of 1\n",
    "new_image_shape = add_pics_data.shape\n",
    "print(\"Processed additional pictures shape =\", new_image_shape)"
   ]
  },
  {
   "cell_type": "markdown",
   "metadata": {},
   "source": [
    "### Predict the Sign Type for Each Image"
   ]
  },
  {
   "cell_type": "code",
   "execution_count": 35,
   "metadata": {},
   "outputs": [
    {
     "name": "stdout",
     "output_type": "stream",
     "text": [
      "INFO:tensorflow:Restoring parameters from train_model.ckpt\n"
     ]
    }
   ],
   "source": [
    "### Run the predictions here and use the model to output the prediction for each image.\n",
    "### Make sure to pre-process the images with the same pre-processing pipeline used earlier.\n",
    "### Feel free to use as many code cells as needed.\n",
    "with tf.Session() as sess:\n",
    "    saver.restore(sess, save_file)\n",
    "    new_pics_classes = sess.run(logits, feed_dict={x: add_pics_data, keep_prob : 1.0})"
   ]
  },
  {
   "cell_type": "markdown",
   "metadata": {},
   "source": [
    "### Analyze Performance"
   ]
  },
  {
   "cell_type": "code",
   "execution_count": 39,
   "metadata": {},
   "outputs": [],
   "source": [
    "### Calculate the accuracy for these 5 new images. \n",
    "### For example, if the model predicted 1 out of 5 signs correctly, it's 20% accurate on these new images.\n"
   ]
  },
  {
   "cell_type": "markdown",
   "metadata": {},
   "source": [
    "### Output Top 5 Softmax Probabilities For Each Image Found on the Web"
   ]
  },
  {
   "cell_type": "markdown",
   "metadata": {},
   "source": [
    "For each of the new images, print out the model's softmax probabilities to show the **certainty** of the model's predictions (limit the output to the top 5 probabilities for each image). [`tf.nn.top_k`](https://www.tensorflow.org/versions/r0.12/api_docs/python/nn.html#top_k) could prove helpful here. \n",
    "\n",
    "The example below demonstrates how tf.nn.top_k can be used to find the top k predictions for each image.\n",
    "\n",
    "`tf.nn.top_k` will return the values and indices (class ids) of the top k predictions. So if k=3, for each sign, it'll return the 3 largest probabilities (out of a possible 43) and the correspoding class ids.\n",
    "\n",
    "Take this numpy array as an example. The values in the array represent predictions. The array contains softmax probabilities for five candidate images with six possible classes. `tk.nn.top_k` is used to choose the three classes with the highest probability:\n",
    "\n",
    "```\n",
    "# (5, 6) array\n",
    "a = np.array([[ 0.24879643,  0.07032244,  0.12641572,  0.34763842,  0.07893497,\n",
    "         0.12789202],\n",
    "       [ 0.28086119,  0.27569815,  0.08594638,  0.0178669 ,  0.18063401,\n",
    "         0.15899337],\n",
    "       [ 0.26076848,  0.23664738,  0.08020603,  0.07001922,  0.1134371 ,\n",
    "         0.23892179],\n",
    "       [ 0.11943333,  0.29198961,  0.02605103,  0.26234032,  0.1351348 ,\n",
    "         0.16505091],\n",
    "       [ 0.09561176,  0.34396535,  0.0643941 ,  0.16240774,  0.24206137,\n",
    "         0.09155967]])\n",
    "```\n",
    "\n",
    "Running it through `sess.run(tf.nn.top_k(tf.constant(a), k=3))` produces:\n",
    "\n",
    "```\n",
    "TopKV2(values=array([[ 0.34763842,  0.24879643,  0.12789202],\n",
    "       [ 0.28086119,  0.27569815,  0.18063401],\n",
    "       [ 0.26076848,  0.23892179,  0.23664738],\n",
    "       [ 0.29198961,  0.26234032,  0.16505091],\n",
    "       [ 0.34396535,  0.24206137,  0.16240774]]), indices=array([[3, 0, 5],\n",
    "       [0, 1, 4],\n",
    "       [0, 5, 1],\n",
    "       [1, 3, 5],\n",
    "       [1, 4, 3]], dtype=int32))\n",
    "```\n",
    "\n",
    "Looking just at the first row we get `[ 0.34763842,  0.24879643,  0.12789202]`, you can confirm these are the 3 largest probabilities in `a`. You'll also notice `[3, 0, 5]` are the corresponding indices."
   ]
  },
  {
   "cell_type": "code",
   "execution_count": 37,
   "metadata": {},
   "outputs": [
    {
     "name": "stdout",
     "output_type": "stream",
     "text": [
      "Image 0 probabilities: [ 3.19854498  2.84092522 -0.26004821 -1.94640708 -2.79542542] \n",
      " and predicted classes: [39  1 24 31 37]\n",
      "Image 1 probabilities: [ 8.08568764  6.62087154  4.84035349  2.45952559 -0.73270124] \n",
      " and predicted classes: [ 9  5  3 10  7]\n",
      "Image 2 probabilities: [ 9.35013485  7.62027121  4.08305454  0.24095166 -2.45041704] \n",
      " and predicted classes: [38  2 14  3 15]\n",
      "Image 3 probabilities: [ 115.13782501   11.0155592     6.78317356   -2.10226893  -43.79636765] \n",
      " and predicted classes: [13 35  2 38 12]\n",
      "Image 4 probabilities: [ 6.98618269  4.10591269  3.84859633  2.39764166  0.60594434] \n",
      " and predicted classes: [14 34 26 38 36]\n"
     ]
    }
   ],
   "source": [
    "### Print out the top five softmax probabilities for the predictions on the German traffic sign images found on the web. \n",
    "### Feel free to use as many code cells as needed.\n",
    "with tf.Session() as sess:\n",
    "    predicts = sess.run(tf.nn.top_k(new_pics_classes, k=5, sorted=True))\n",
    "    \n",
    "for i in range(len(predicts[0])):\n",
    "    print('Image', i, 'probabilities:', predicts[0][i], '\\n and predicted classes:', predicts[1][i])"
   ]
  },
  {
   "cell_type": "markdown",
   "metadata": {},
   "source": [
    "### Project Writeup\n",
    "\n",
    "Once you have completed the code implementation, document your results in a project writeup using this [template](https://github.com/udacity/CarND-Traffic-Sign-Classifier-Project/blob/master/writeup_template.md) as a guide. The writeup can be in a markdown or pdf file. "
   ]
  },
  {
   "cell_type": "markdown",
   "metadata": {},
   "source": [
    "> **Note**: Once you have completed all of the code implementations and successfully answered each question above, you may finalize your work by exporting the iPython Notebook as an HTML document. You can do this by using the menu above and navigating to  \\n\",\n",
    "    \"**File -> Download as -> HTML (.html)**. Include the finished document along with this notebook as your submission."
   ]
  },
  {
   "cell_type": "markdown",
   "metadata": {},
   "source": [
    "---\n",
    "\n",
    "## Step 4 (Optional): Visualize the Neural Network's State with Test Images\n",
    "\n",
    " This Section is not required to complete but acts as an additional excersise for understaning the output of a neural network's weights. While neural networks can be a great learning device they are often referred to as a black box. We can understand what the weights of a neural network look like better by plotting their feature maps. After successfully training your neural network you can see what it's feature maps look like by plotting the output of the network's weight layers in response to a test stimuli image. From these plotted feature maps, it's possible to see what characteristics of an image the network finds interesting. For a sign, maybe the inner network feature maps react with high activation to the sign's boundary outline or to the contrast in the sign's painted symbol.\n",
    "\n",
    " Provided for you below is the function code that allows you to get the visualization output of any tensorflow weight layer you want. The inputs to the function should be a stimuli image, one used during training or a new one you provided, and then the tensorflow variable name that represents the layer's state during the training process, for instance if you wanted to see what the [LeNet lab's](https://classroom.udacity.com/nanodegrees/nd013/parts/fbf77062-5703-404e-b60c-95b78b2f3f9e/modules/6df7ae49-c61c-4bb2-a23e-6527e69209ec/lessons/601ae704-1035-4287-8b11-e2c2716217ad/concepts/d4aca031-508f-4e0b-b493-e7b706120f81) feature maps looked like for it's second convolutional layer you could enter conv2 as the tf_activation variable.\n",
    "\n",
    "For an example of what feature map outputs look like, check out NVIDIA's results in their paper [End-to-End Deep Learning for Self-Driving Cars](https://devblogs.nvidia.com/parallelforall/deep-learning-self-driving-cars/) in the section Visualization of internal CNN State. NVIDIA was able to show that their network's inner weights had high activations to road boundary lines by comparing feature maps from an image with a clear path to one without. Try experimenting with a similar test to show that your trained network's weights are looking for interesting features, whether it's looking at differences in feature maps from images with or without a sign, or even what feature maps look like in a trained network vs a completely untrained one on the same sign image.\n",
    "\n",
    "<figure>\n",
    " <img src=\"visualize_cnn.png\" width=\"380\" alt=\"Combined Image\" />\n",
    " <figcaption>\n",
    " <p></p> \n",
    " <p style=\"text-align: center;\"> Your output should look something like this (above)</p> \n",
    " </figcaption>\n",
    "</figure>\n",
    " <p></p> \n"
   ]
  },
  {
   "cell_type": "code",
   "execution_count": 38,
   "metadata": {
    "collapsed": true
   },
   "outputs": [],
   "source": [
    "### Visualize your network's feature maps here.\n",
    "### Feel free to use as many code cells as needed.\n",
    "\n",
    "# image_input: the test image being fed into the network to produce the feature maps\n",
    "# tf_activation: should be a tf variable name used during your training procedure that represents the calculated state of a specific weight layer\n",
    "# activation_min/max: can be used to view the activation contrast in more detail, by default matplot sets min and max to the actual min and max values of the output\n",
    "# plt_num: used to plot out multiple different weight feature map sets on the same block, just extend the plt number for each new feature map entry\n",
    "\n",
    "def outputFeatureMap(image_input, tf_activation, activation_min=-1, activation_max=-1 ,plt_num=1):\n",
    "    # Here make sure to preprocess your image_input in a way your network expects\n",
    "    # with size, normalization, ect if needed\n",
    "    # image_input =\n",
    "    # Note: x should be the same name as your network's tensorflow data placeholder variable\n",
    "    # If you get an error tf_activation is not defined it may be having trouble accessing the variable from inside a function\n",
    "    activation = tf_activation.eval(session=sess,feed_dict={x : image_input})\n",
    "    featuremaps = activation.shape[3]\n",
    "    plt.figure(plt_num, figsize=(15,15))\n",
    "    for featuremap in range(featuremaps):\n",
    "        plt.subplot(6,8, featuremap+1) # sets the number of feature maps to show on each row and column\n",
    "        plt.title('FeatureMap ' + str(featuremap)) # displays the feature map number\n",
    "        if activation_min != -1 & activation_max != -1:\n",
    "            plt.imshow(activation[0,:,:, featuremap], interpolation=\"nearest\", vmin =activation_min, vmax=activation_max, cmap=\"gray\")\n",
    "        elif activation_max != -1:\n",
    "            plt.imshow(activation[0,:,:, featuremap], interpolation=\"nearest\", vmax=activation_max, cmap=\"gray\")\n",
    "        elif activation_min !=-1:\n",
    "            plt.imshow(activation[0,:,:, featuremap], interpolation=\"nearest\", vmin=activation_min, cmap=\"gray\")\n",
    "        else:\n",
    "            plt.imshow(activation[0,:,:, featuremap], interpolation=\"nearest\", cmap=\"gray\")"
   ]
  }
 ],
 "metadata": {
  "anaconda-cloud": {},
  "kernelspec": {
   "display_name": "Python 3",
   "language": "python",
   "name": "python3"
  },
  "language_info": {
   "codemirror_mode": {
    "name": "ipython",
    "version": 3
   },
   "file_extension": ".py",
   "mimetype": "text/x-python",
   "name": "python",
   "nbconvert_exporter": "python",
   "pygments_lexer": "ipython3",
   "version": "3.6.1"
  }
 },
 "nbformat": 4,
 "nbformat_minor": 1
}
